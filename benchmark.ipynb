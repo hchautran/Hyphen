{
 "cells": [
  {
   "cell_type": "code",
   "execution_count": 1,
   "metadata": {},
   "outputs": [],
   "source": [
    "import torch\n",
    "import time\n",
    "\n",
    "def benchmark_throughput(model, input_size, num_iterations=100):\n",
    "    # Create random input tensor\n",
    "    input_tensor = torch.randn(*input_size)\n",
    "\n",
    "    # Move model and input tensor to GPU if available\n",
    "    device = torch.device(\"cuda\" if torch.cuda.is_available() else \"cpu\")\n",
    "    model = model.to(device)\n",
    "    input_tensor = input_tensor.to(device)\n",
    "\n",
    "    # Warm-up run\n",
    "    with torch.no_grad():\n",
    "        model(input_tensor)\n",
    "\n",
    "    # Start benchmarking\n",
    "    start_time = time.time()\n",
    "    for _ in range(num_iterations):\n",
    "        with torch.no_grad():\n",
    "            model(input_tensor)\n",
    "    end_time = time.time()\n",
    "\n",
    "    # Calculate throughput\n",
    "    elapsed_time = end_time - start_time\n",
    "    throughput = num_iterations / elapsed_time\n",
    "\n",
    "    return throughput"
   ]
  },
  {
   "cell_type": "code",
   "execution_count": 2,
   "metadata": {},
   "outputs": [],
   "source": [
    "import pandas as pd\n",
    "from const import (\n",
    "   ANTIVAX,\n",
    "   TWITTER16,\n",
    "   TWITTER15,\n",
    "   PHEME,\n",
    "   FIGLANG_TWITTER,\n",
    "   POLITIFACT,\n",
    ") \n",
    "\n"
   ]
  },
  {
   "cell_type": "code",
   "execution_count": 3,
   "metadata": {},
   "outputs": [
    {
     "name": "stdout",
     "output_type": "stream",
     "text": [
      "True\n",
      "lorentz\n",
      "0.617 & 0.561 & 0.544 & 35.76\n",
      "-----------------\n"
     ]
    }
   ],
   "source": [
    "# dataset = TWITTER16 \n",
    "# dataset = TWITTER15 \n",
    "dataset = PHEME \n",
    "# dataset = FIGLANG_TWITTER\n",
    "# dataset = POLITIFACT\n",
    "# dataset = ANTIVAX\n",
    "\n",
    "df = pd.read_csv(f'results/{dataset}.csv')\n",
    "HS4Model_df = df.loc[df['model'] == 'HS4Model']\n",
    "bert_df = df.loc[df['model'] == 'bert']\n",
    "han_df = df.loc[df['model'] == 'han']\n",
    "hyphen_df = df.loc[df['model'] == 'hyphen']\n",
    "df =bert_df \n",
    "for i in range(0, len(df)):\n",
    "   model = df.iloc[i]['model']\n",
    "   manifold = df.iloc[i]['manifold']\n",
    "   fourier = df.iloc[i]['fourier']\n",
    "   f1 = df.iloc[i]['f1']\n",
    "   prec = df.iloc[i]['prec']\n",
    "   rec = df.iloc[i]['rec']\n",
    "   train_time = df.iloc[i]['train time']\n",
    "   print(fourier) \n",
    "   print(manifold)\n",
    "   print(f'{prec:.3f} & {rec:.3f} & {f1:.3f} & {train_time:.2f}')\n",
    "   print('-----------------')"
   ]
  },
  {
   "cell_type": "code",
   "execution_count": 4,
   "metadata": {},
   "outputs": [],
   "source": [
    "import wandb\n",
    "import matplotlib.pyplot as plt\n",
    "\n",
    "# Step 1: Initialize wandb and retrieve data\n",
    "api = wandb.Api()\n",
    "entity, project = 'eddiechen372', dataset \n",
    "runs = api.runs(f\"{entity}/{project}\")\n"
   ]
  },
  {
   "cell_type": "code",
   "execution_count": 5,
   "metadata": {},
   "outputs": [
    {
     "name": "stderr",
     "output_type": "stream",
     "text": [
      "/home/jupyter-iec_chau/miniconda3/envs/venv/lib/python3.10/site-packages/dgl/backend/pytorch/sparse.py:104: FutureWarning: `torch.cuda.amp.custom_fwd(args...)` is deprecated. Please use `torch.amp.custom_fwd(args..., device_type='cuda')` instead.\n",
      "  @custom_fwd(cast_inputs=th.float16)\n",
      "/home/jupyter-iec_chau/miniconda3/envs/venv/lib/python3.10/site-packages/dgl/backend/pytorch/sparse.py:128: FutureWarning: `torch.cuda.amp.custom_bwd(args...)` is deprecated. Please use `torch.amp.custom_bwd(args..., device_type='cuda')` instead.\n",
      "  def backward(ctx, dZ):\n",
      "/home/jupyter-iec_chau/miniconda3/envs/venv/lib/python3.10/site-packages/dgl/backend/pytorch/sparse.py:177: FutureWarning: `torch.cuda.amp.custom_fwd(args...)` is deprecated. Please use `torch.amp.custom_fwd(args..., device_type='cuda')` instead.\n",
      "  @custom_fwd(cast_inputs=th.float16)\n",
      "/home/jupyter-iec_chau/miniconda3/envs/venv/lib/python3.10/site-packages/dgl/backend/pytorch/sparse.py:207: FutureWarning: `torch.cuda.amp.custom_bwd(args...)` is deprecated. Please use `torch.amp.custom_bwd(args..., device_type='cuda')` instead.\n",
      "  def backward(ctx, *dZ):\n",
      "/home/jupyter-iec_chau/miniconda3/envs/venv/lib/python3.10/site-packages/dgl/backend/pytorch/sparse.py:287: FutureWarning: `torch.cuda.amp.custom_fwd(args...)` is deprecated. Please use `torch.amp.custom_fwd(args..., device_type='cuda')` instead.\n",
      "  @custom_fwd(cast_inputs=th.float16)\n",
      "/home/jupyter-iec_chau/miniconda3/envs/venv/lib/python3.10/site-packages/dgl/backend/pytorch/sparse.py:304: FutureWarning: `torch.cuda.amp.custom_bwd(args...)` is deprecated. Please use `torch.amp.custom_bwd(args..., device_type='cuda')` instead.\n",
      "  def backward(ctx, dZ):\n",
      "/home/jupyter-iec_chau/miniconda3/envs/venv/lib/python3.10/site-packages/dgl/backend/pytorch/sparse.py:352: FutureWarning: `torch.cuda.amp.custom_fwd(args...)` is deprecated. Please use `torch.amp.custom_fwd(args..., device_type='cuda')` instead.\n",
      "  @custom_fwd(cast_inputs=th.float16)\n",
      "/home/jupyter-iec_chau/miniconda3/envs/venv/lib/python3.10/site-packages/dgl/backend/pytorch/sparse.py:371: FutureWarning: `torch.cuda.amp.custom_bwd(args...)` is deprecated. Please use `torch.amp.custom_bwd(args..., device_type='cuda')` instead.\n",
      "  def backward(ctx, *dZ):\n",
      "/home/jupyter-iec_chau/miniconda3/envs/venv/lib/python3.10/site-packages/dgl/backend/pytorch/sparse.py:431: FutureWarning: `torch.cuda.amp.custom_fwd(args...)` is deprecated. Please use `torch.amp.custom_fwd(args..., device_type='cuda')` instead.\n",
      "  @custom_fwd(cast_inputs=th.float16)\n",
      "/home/jupyter-iec_chau/miniconda3/envs/venv/lib/python3.10/site-packages/dgl/backend/pytorch/sparse.py:467: FutureWarning: `torch.cuda.amp.custom_bwd(args...)` is deprecated. Please use `torch.amp.custom_bwd(args..., device_type='cuda')` instead.\n",
      "  def backward(ctx, grad_out):\n",
      "/home/jupyter-iec_chau/miniconda3/envs/venv/lib/python3.10/site-packages/dgl/backend/pytorch/sparse.py:498: FutureWarning: `torch.cuda.amp.custom_fwd(args...)` is deprecated. Please use `torch.amp.custom_fwd(args..., device_type='cuda')` instead.\n",
      "  @custom_fwd(cast_inputs=th.float16)\n",
      "/home/jupyter-iec_chau/miniconda3/envs/venv/lib/python3.10/site-packages/dgl/backend/pytorch/sparse.py:535: FutureWarning: `torch.cuda.amp.custom_bwd(args...)` is deprecated. Please use `torch.amp.custom_bwd(args..., device_type='cuda')` instead.\n",
      "  def backward(ctx, *grad_out):\n",
      "/home/jupyter-iec_chau/miniconda3/envs/venv/lib/python3.10/site-packages/dgl/backend/pytorch/sparse.py:566: FutureWarning: `torch.cuda.amp.custom_fwd(args...)` is deprecated. Please use `torch.amp.custom_fwd(args..., device_type='cuda')` instead.\n",
      "  @custom_fwd(cast_inputs=th.float16)\n",
      "/home/jupyter-iec_chau/miniconda3/envs/venv/lib/python3.10/site-packages/dgl/backend/pytorch/sparse.py:575: FutureWarning: `torch.cuda.amp.custom_bwd(args...)` is deprecated. Please use `torch.amp.custom_bwd(args..., device_type='cuda')` instead.\n",
      "  def backward(ctx, dy):\n",
      "/home/jupyter-iec_chau/miniconda3/envs/venv/lib/python3.10/site-packages/dgl/backend/pytorch/sparse.py:595: FutureWarning: `torch.cuda.amp.custom_fwd(args...)` is deprecated. Please use `torch.amp.custom_fwd(args..., device_type='cuda')` instead.\n",
      "  @custom_fwd(cast_inputs=th.float16)\n",
      "/home/jupyter-iec_chau/miniconda3/envs/venv/lib/python3.10/site-packages/dgl/backend/pytorch/sparse.py:603: FutureWarning: `torch.cuda.amp.custom_bwd(args...)` is deprecated. Please use `torch.amp.custom_bwd(args..., device_type='cuda')` instead.\n",
      "  def backward(ctx, dy):\n",
      "/home/jupyter-iec_chau/miniconda3/envs/venv/lib/python3.10/site-packages/dgl/backend/pytorch/sparse.py:666: FutureWarning: `torch.cuda.amp.custom_fwd(args...)` is deprecated. Please use `torch.amp.custom_fwd(args..., device_type='cuda')` instead.\n",
      "  @custom_fwd(cast_inputs=th.float16)\n",
      "/home/jupyter-iec_chau/miniconda3/envs/venv/lib/python3.10/site-packages/dgl/backend/pytorch/sparse.py:692: FutureWarning: `torch.cuda.amp.custom_fwd(args...)` is deprecated. Please use `torch.amp.custom_fwd(args..., device_type='cuda')` instead.\n",
      "  @custom_fwd(cast_inputs=th.float16)\n",
      "/home/jupyter-iec_chau/miniconda3/envs/venv/lib/python3.10/site-packages/torch_geometric/typing.py:72: UserWarning: An issue occurred while importing 'torch-scatter'. Disabling its usage. Stacktrace: /home/jupyter-iec_chau/miniconda3/envs/venv/lib/python3.10/site-packages/torch_scatter/_version_cuda.so: undefined symbol: _ZN5torch3jit17parseSchemaOrNameERKSs\n",
      "  warnings.warn(f\"An issue occurred while importing 'torch-scatter'. \"\n",
      "/home/jupyter-iec_chau/miniconda3/envs/venv/lib/python3.10/site-packages/tqdm/auto.py:21: TqdmWarning: IProgress not found. Please update jupyter and ipywidgets. See https://ipywidgets.readthedocs.io/en/stable/user_install.html\n",
      "  from .autonotebook import tqdm as notebook_tqdm\n",
      "/home/jupyter-iec_chau/.local/lib/python3.10/site-packages/transformers/utils/generic.py:441: FutureWarning: `torch.utils._pytree._register_pytree_node` is deprecated. Please use `torch.utils._pytree.register_pytree_node` instead.\n",
      "  _torch_pytree._register_pytree_node(\n",
      "/home/jupyter-iec_chau/.local/lib/python3.10/site-packages/transformers/utils/generic.py:309: FutureWarning: `torch.utils._pytree._register_pytree_node` is deprecated. Please use `torch.utils._pytree.register_pytree_node` instead.\n",
      "  _torch_pytree._register_pytree_node(\n",
      "/home/jupyter-iec_chau/.local/lib/python3.10/site-packages/transformers/utils/generic.py:309: FutureWarning: `torch.utils._pytree._register_pytree_node` is deprecated. Please use `torch.utils._pytree.register_pytree_node` instead.\n",
      "  _torch_pytree._register_pytree_node(\n",
      "CUDA extension for structured kernels (Cauchy and Vandermonde multiplication) not found. Install by going to extensions/kernels/ and running `python setup.py install`, for improved speed and memory efficiency. Note that the kernel changed for state-spaces 4.0 and must be recompiled.\n",
      "/home/jupyter-iec_chau/.local/lib/python3.10/site-packages/transformers/utils/generic.py:309: FutureWarning: `torch.utils._pytree._register_pytree_node` is deprecated. Please use `torch.utils._pytree.register_pytree_node` instead.\n",
      "  _torch_pytree._register_pytree_node(\n",
      "2024-08-21 19:40:03.004945: I tensorflow/core/platform/cpu_feature_guard.cc:210] This TensorFlow binary is optimized to use available CPU instructions in performance-critical operations.\n",
      "To enable the following instructions: AVX2 FMA, in other operations, rebuild TensorFlow with the appropriate compiler flags.\n",
      "2024-08-21 19:40:03.750402: W tensorflow/compiler/tf2tensorrt/utils/py_utils.cc:38] TF-TRT Warning: Could not find TensorRT\n"
     ]
    }
   ],
   "source": [
    "import torch\n",
    "from const import (\n",
    "   LORENTZ, \n",
    "   POINCARE, \n",
    "   EUCLID, \n",
    "   HAN, \n",
    "   HYPHEN, \n",
    "   HS4, \n",
    "   BERT,\n",
    "   TWITTER16,\n",
    "   TWITTER15, \n",
    "   PHEME,\n",
    "   POLITIFACT,\n",
    "   FIGLANG_TWITTER,\n",
    "   ANTIVAX,\n",
    ")\n",
    "from trainer import Trainer \n",
    "\n",
    "\n",
    "\n"
   ]
  },
  {
   "cell_type": "markdown",
   "metadata": {},
   "source": []
  },
  {
   "cell_type": "code",
   "execution_count": 6,
   "metadata": {},
   "outputs": [
    {
     "name": "stderr",
     "output_type": "stream",
     "text": [
      "/home/jupyter-iec_chau/miniconda3/envs/venv/lib/python3.10/site-packages/torch/storage.py:414: FutureWarning: You are using `torch.load` with `weights_only=False` (the current default value), which uses the default pickle module implicitly. It is possible to construct malicious pickle data which will execute arbitrary code during unpickling (See https://github.com/pytorch/pytorch/blob/main/SECURITY.md#untrusted-models for more details). In a future release, the default value for `weights_only` will be flipped to `True`. This limits the functions that could be executed during unpickling. Arbitrary objects will no longer be allowed to be loaded via this mode unless they are explicitly allowlisted by the user via `torch.serialization.add_safe_globals`. We recommend you start setting `weights_only=True` for any use case where you don't have full control of the loaded file. Please open an issue on GitHub for any issues related to this experimental feature.\n",
      "  return torch.load(io.BytesIO(b))\n"
     ]
    },
    {
     "name": "stdout",
     "output_type": "stream",
     "text": [
      "using manifold  euclid\n",
      "using fourier False\n",
      "using manifold  poincare\n",
      "using fourier False\n",
      "using manifold  euclid\n",
      "using fourier False\n",
      "using manifold  euclid\n",
      "using fourier False\n"
     ]
    }
   ],
   "source": [
    "import os\n",
    "from const import (DATA_PATH)\n",
    "import pickle\n",
    "file = open(f'{DATA_PATH}/{dataset}/{dataset}_preprocessed.pkl', 'rb')\n",
    "df = pd.read_csv(f'data/{dataset}/{dataset}.csv') \n",
    "props = pickle.load(file)\n",
    "\n",
    "id_train, id_test = props['train']['id'], props['val']['id']\n",
    "raw_c_train, raw_c_val = list(df[df['id'].isin(id_train)]['comments']), list(df[df['id'].isin(id_test)]['comments'])\n",
    "raw_c_train = [c.split('::') if isinstance(c, str) else '' for c in raw_c_train]\n",
    "raw_c_val= [c.split('::') if isinstance(c, str) else '' for c in raw_c_val]\n",
    "x_train, x_val = props['train']['x'], props['val']['x']\n",
    "y_train, y_val = props['train']['y'], props['val']['y']\n",
    "c_train, c_val = props['train']['c'], props['val']['c']\n",
    "sub_train, sub_val = props['train']['subgraphs'], props['val']['subgraphs']\n",
    "\n",
    "os.environ['CUDA_VISIBLE_DEVICES'] = '1' \n",
    "HS4Model_trainer = Trainer(\n",
    "    manifold=EUCLID,\n",
    "    model_type=HS4,\n",
    "    platform=TWITTER16, \n",
    "    max_sen_len=30, \n",
    "    max_com_len=30, \n",
    "    max_sents=20, \n",
    "    max_coms=20, \n",
    "    lr = 1e-3, \n",
    "    fourier = False,\n",
    "    curv=1.0,\n",
    "    enable_log=False,\n",
    "    embedding_dim=200\n",
    ")\n",
    "bert_trainer = Trainer(\n",
    "    manifold=POINCARE,\n",
    "    model_type=BERT,\n",
    "    platform=EUCLID, \n",
    "    max_sen_len=30, \n",
    "    max_com_len=30, \n",
    "    max_sents=20, \n",
    "    max_coms=20, \n",
    "    lr = 1e-3, \n",
    "    fourier = False,\n",
    "    curv=1.0,\n",
    "    enable_log=False,\n",
    "    embedding_dim=200\n",
    ")\n",
    "rnn_trainer = Trainer(\n",
    "    manifold=EUCLID,\n",
    "    model_type=HAN,\n",
    "    platform=TWITTER16, \n",
    "    max_sen_len=30, \n",
    "    max_com_len=30, \n",
    "    max_sents=20, \n",
    "    max_coms=20, \n",
    "    lr = 1e-3, \n",
    "    fourier = False,\n",
    "    curv=1.0,\n",
    "    enable_log=False,\n",
    "    embedding_dim=200\n",
    ")\n",
    "hyphen_trainer = Trainer(\n",
    "    manifold=EUCLID,\n",
    "    model_type=HYPHEN,\n",
    "    platform=TWITTER16, \n",
    "    max_sen_len=30, \n",
    "    max_com_len=30, \n",
    "    max_sents=20, \n",
    "    max_coms=20, \n",
    "    lr = 1e-3, \n",
    "    fourier = False,\n",
    "    curv=1.0,\n",
    "    enable_log=False,\n",
    "    embedding_dim=200\n",
    ")\n",
    "\n",
    "# hyphen_trainer.build_model(10)\n"
   ]
  },
  {
   "cell_type": "code",
   "execution_count": 7,
   "metadata": {},
   "outputs": [
    {
     "name": "stdout",
     "output_type": "stream",
     "text": [
      "saved tokenizer\n",
      "Building model....\n",
      "building HypPostEnc\n",
      "building HypComEnc\n",
      "building CoAttention\n",
      "han built\n",
      "saved tokenizer\n",
      "Building model....\n",
      "building HypPostEnc\n",
      "building HypComEnc\n",
      "building CoAttention\n",
      "bert built\n",
      "saved tokenizer\n",
      "Building model....\n",
      "building HypPostEnc\n",
      "building HypComEnc\n",
      "building CoAttention\n",
      "hs4 built\n"
     ]
    }
   ],
   "source": [
    "batch_size = 2 \n",
    "rnn_trainer.build_model(batch_size)\n",
    "bert_trainer.build_model(batch_size)\n",
    "HS4Model_trainer.build_model(batch_size)\n",
    "# hyphen_trainer.build_model(batch_size)"
   ]
  },
  {
   "cell_type": "code",
   "execution_count": 17,
   "metadata": {},
   "outputs": [
    {
     "name": "stdout",
     "output_type": "stream",
     "text": [
      "Total parameters of SSM: 12604460\n",
      "Total parameters of LSTM: 13188060\n",
      "Total parameters of MSA: 42212061\n"
     ]
    }
   ],
   "source": [
    "from transformers import BertModel, RobertaModel\n",
    "models = {\n",
    "   'SSM': HS4Model_trainer.model,\n",
    "   'LSTM': rnn_trainer.model,\n",
    "   'MSA': bert_trainer.model,\n",
    "   # 'Hyphen': hyphen_trainer.model,\n",
    "   # 'BERT': BertModel.from_pretrained('bert-base-uncased'),\n",
    "   # 'RoBERTa': RobertaModel.from_pretrained('roberta-base')\n",
    "   \n",
    "}\n",
    "for key in models.keys():\n",
    "   total_params = sum(p.numel() for p in models[key].parameters())\n",
    "   print(f\"Total parameters of {key}: {total_params}\")"
   ]
  },
  {
   "cell_type": "code",
   "execution_count": 18,
   "metadata": {},
   "outputs": [
    {
     "data": {
      "text/plain": [
       "['SSM', 'LSTM', 'MSA']"
      ]
     },
     "execution_count": 18,
     "metadata": {},
     "output_type": "execute_result"
    }
   ],
   "source": [
    "list(models.keys())"
   ]
  },
  {
   "cell_type": "code",
   "execution_count": 20,
   "metadata": {},
   "outputs": [
    {
     "name": "stderr",
     "output_type": "stream",
     "text": [
      "100%|██████████| 100/100 [00:02<00:00, 36.74it/s]\n",
      "100%|██████████| 100/100 [19:42<00:00, 11.83s/it]\n",
      "100%|██████████| 100/100 [00:05<00:00, 16.84it/s]\n"
     ]
    },
    {
     "data": {
      "image/png": "[encoded data removed]",
      "text/plain": [
       "<Figure size 1000x400 with 2 Axes>"
      ]
     },
     "metadata": {},
     "output_type": "display_data"
    }
   ],
   "source": [
    "import torch\n",
    "import matplotlib.pyplot as plt\n",
    "from tqdm.auto import tqdm \n",
    "from scipy.signal import savgol_filter\n",
    "import numpy as np\n",
    "\n",
    "\n",
    "\n",
    "def measure_memory_footprint(model, model_type:str, comment_input_size:torch.Tensor):\n",
    "    device = torch.device(\"cuda\" if torch.cuda.is_available() else \"cpu\")\n",
    "    model.to(device).eval()\n",
    "    \n",
    "    # Measure memory before inference\n",
    "    torch.cuda.reset_peak_memory_stats(device)\n",
    "    with torch.no_grad():\n",
    "        start = time.time()\n",
    "        if model_type == 'BERT' or model_type == 'RoBERTa':\n",
    "            input_tensor = torch.randint(0, 100, size=(comment_input_size[0],comment_input_size[1])).to(device)\n",
    "            model(input_tensor)\n",
    "        else:\n",
    "            input_tensor = torch.randint(0, 100, size=comment_input_size).to(device)\n",
    "            model(content=input_tensor, comment=input_tensor)\n",
    "        inference_time = time.time() - start \n",
    "    \n",
    "    # Measure memory after inference\n",
    "    memory_footprint = torch.cuda.max_memory_allocated(device) / (1024 ** 2)  # Convert to MB\n",
    "    return memory_footprint, inference_time\n",
    "\n",
    "sequence_lengths = range(2, 10000, 100)\n",
    "\n",
    "# Create a figure with two subplots (vertically arranged)\n",
    "fig, (ax1, ax2) = plt.subplots(1, 2, figsize=(10, 4))\n",
    "\n",
    "for i, key in enumerate(list(models.keys())):\n",
    "    memory_footprints = []\n",
    "    inference_times = []\n",
    "    no_sentence = []\n",
    "    for seq_len in tqdm(sequence_lengths):\n",
    "        \n",
    "        if key == 'BERT' or key == 'RoBERTa':\n",
    "            input_size = (batch_size, seq_len*10)  # Example input size, adjust based on your model\n",
    "        else:\n",
    "            input_size = (batch_size, seq_len, 10)  # Example input size, adjust based on your model\n",
    "        footprint, inference_time = measure_memory_footprint(models[key], key, input_size)\n",
    "        inference_times.append(inference_time)\n",
    "        memory_footprints.append(footprint)\n",
    "        no_sentence.append(seq_len)\n",
    "        if no_sentence[-1] > 49 and (key == 'BERT' or key == 'RoBERTa'): break\n",
    "\n",
    "    # Plot memory footprint on the first subplot\n",
    "    ax1.plot(no_sentence[1:], memory_footprints[1:], label=f'{key}', linestyle=('-' if key != 'HS4Model' else '-') )\n",
    "    # Plot inference time on the second subplot\n",
    "    ax2.plot(no_sentence[1:], [inference_time * 1000 for inference_time in inference_times[1:]], label=f'{key}', linestyle=('-' if key != 'HS4Model' else '-') )\n",
    "    # total_params = sum(p.numel() for p in models[key].parameters())/1e6\n",
    "    # ax3.bar(key, total_params)\n",
    "\n",
    "# Set labels and titles for the first subplot\n",
    "ax1.set_xlabel('Number of sentences/comments')\n",
    "\n",
    "ax1.set_ylabel('Memory Footprint (MB)')\n",
    "# ax1.set_title('Memory Footprint vs. Sequence Length')\n",
    "ax1.grid(True)\n",
    "ax1.legend()\n",
    "\n",
    "# Set labels and titles for the second subplot\n",
    "ax2.set_xlabel('Number of sentences/comments')\n",
    "ax2.set_ylabel('Inference Time (miliseconds)')\n",
    "# ax2.set_title('Inference Time vs. Sequence Length')\n",
    "ax2.grid(True)\n",
    "ax2.legend()\n",
    "\n",
    "\n",
    "# ax3.grid(True)\n",
    "# ax3.set_ylabel('Number of Parameters (Millions)')\n",
    "# ax3.tick_params(axis='x', rotation=45) \n",
    "\n",
    "plt.tight_layout()  # Adjust layout to not overlap\n",
    "plt.show()"
   ]
  },
  {
   "cell_type": "code",
   "execution_count": null,
   "metadata": {},
   "outputs": [],
   "source": []
  },
  {
   "cell_type": "markdown",
   "metadata": {},
   "source": []
  },
  {
   "cell_type": "code",
   "execution_count": 11,
   "metadata": {},
   "outputs": [],
   "source": [
    "# from tqdm.auto import tqdm\n",
    "# import seaborn as sns\n",
    "# import pandas as pd\n",
    "\n",
    "# df = pd.DataFrame()\n",
    "# for run in tqdm(runs):\n",
    "#    run = api.run(f\"{entity}/{project}/{run.id}\")\n",
    "#    config = run.config\n",
    "#    history = run.scan_history(keys=['best F1', 'epoch'])\n",
    "#    type = config['type']\n",
    "#    manifold = config['manifold']\n",
    "#    for i,row in enumerate(history):\n",
    "#       row = pd.DataFrame({'type': [type], 'manifold': [manifold], 'epoch': [row['epoch']], 'best F1': [row['best F1']]})\n",
    "#       df = pd.concat([df, row])\n",
    "\n",
    "\n",
    "# df = df[df['type'] == 'HS4Model']\n",
    "# sns.set_theme(style=\"darkgrid\")\n",
    "# sns.lineplot(data=df, x=\"epoch\", y=\"best F1\", hue=\"manifold\", style=\"manifold\")\n"
   ]
  }
 ],
 "metadata": {
  "kernelspec": {
   "display_name": "venv",
   "language": "python",
   "name": "python3"
  },
  "language_info": {
   "codemirror_mode": {
    "name": "ipython",
    "version": 3
   },
   "file_extension": ".py",
   "mimetype": "text/x-python",
   "name": "python",
   "nbconvert_exporter": "python",
   "pygments_lexer": "ipython3",
   "version": "3.10.14"
  }
 },
 "nbformat": 4,
 "nbformat_minor": 2
}
