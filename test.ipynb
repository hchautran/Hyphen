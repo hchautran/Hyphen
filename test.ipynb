{
 "cells": [
  {
   "cell_type": "code",
   "execution_count": null,
   "metadata": {},
   "outputs": [],
   "source": [
    "import torch\n",
    "import time\n",
    "\n",
    "def benchmark_throughput(model, input_size, num_iterations=100):\n",
    "    # Create random input tensor\n",
    "    input_tensor = torch.randn(*input_size)\n",
    "\n",
    "    # Move model and input tensor to GPU if available\n",
    "    device = torch.device(\"cuda\" if torch.cuda.is_available() else \"cpu\")\n",
    "    model = model.to(device)\n",
    "    input_tensor = input_tensor.to(device)\n",
    "\n",
    "    # Warm-up run\n",
    "    with torch.no_grad():\n",
    "        model(input_tensor)\n",
    "\n",
    "    # Start benchmarking\n",
    "    start_time = time.time()\n",
    "    for _ in range(num_iterations):\n",
    "        with torch.no_grad():\n",
    "            model(input_tensor)\n",
    "    end_time = time.time()\n",
    "\n",
    "    # Calculate throughput\n",
    "    elapsed_time = end_time - start_time\n",
    "    throughput = num_iterations / elapsed_time\n",
    "\n",
    "    return throughput"
   ]
  },
  {
   "cell_type": "code",
   "execution_count": null,
   "metadata": {},
   "outputs": [],
   "source": []
  }
 ],
 "metadata": {
  "kernelspec": {
   "display_name": "venv",
   "language": "python",
   "name": "python3"
  },
  "language_info": {
   "name": "python",
   "version": "3.10.14"
  }
 },
 "nbformat": 4,
 "nbformat_minor": 2
}
