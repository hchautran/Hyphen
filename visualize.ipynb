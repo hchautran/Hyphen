{
 "cells": [
  {
   "cell_type": "code",
   "execution_count": 5,
   "metadata": {},
   "outputs": [
    {
     "name": "stderr",
     "output_type": "stream",
     "text": [
      "/home/jupyter-iec_chau/miniconda3/envs/venv/lib/python3.10/site-packages/torch/storage.py:414: FutureWarning: You are using `torch.load` with `weights_only=False` (the current default value), which uses the default pickle module implicitly. It is possible to construct malicious pickle data which will execute arbitrary code during unpickling (See https://github.com/pytorch/pytorch/blob/main/SECURITY.md#untrusted-models for more details). In a future release, the default value for `weights_only` will be flipped to `True`. This limits the functions that could be executed during unpickling. Arbitrary objects will no longer be allowed to be loaded via this mode unless they are explicitly allowlisted by the user via `torch.serialization.add_safe_globals`. We recommend you start setting `weights_only=True` for any use case where you don't have full control of the loaded file. Please open an issue on GitHub for any issues related to this experimental feature.\n",
      "  return torch.load(io.BytesIO(b))\n"
     ]
    },
    {
     "name": "stdout",
     "output_type": "stream",
     "text": [
      "init k 1.0\n",
      "using manifold  lorentz\n",
      "using fourier True\n"
     ]
    }
   ],
   "source": [
    "import os\n",
    "#os.environ['CUDA_VISIBLE_DEVICES'] = \"0\"\n",
    "import pickle\n",
    "import argparse\n",
    "parser = argparse.ArgumentParser()\n",
    "from trainer import Trainer \n",
    "from const import * \n",
    "import pandas as pd\n",
    "\n",
    "\n",
    "\n",
    "manifold = LORENTZ\n",
    "model = HS4\n",
    "dataset = TWITTER15 \n",
    "max_sent_len = 30 \n",
    "max_com_len = 30 \n",
    "max_sents = 30 \n",
    "max_coms = 30 \n",
    "lr =  0.001 \n",
    "fourier = True \n",
    "curv = 1.0 \n",
    "enable_log =  False \n",
    "embedding_dim = 200 \n",
    "\n",
    "\n",
    "file = open(f'{DATA_PATH}/{dataset}/{dataset}_preprocessed.pkl', 'rb')\n",
    "df = pd.read_csv(f'{DATA_PATH}/{dataset}/{dataset}.csv') \n",
    "props = pickle.load(file)\n",
    "\n",
    "id_train, id_test = props['train']['id'], props['val']['id']\n",
    "raw_c_train, raw_c_val = list(df[df['id'].isin(id_train)]['comments']), list(df[df['id'].isin(id_test)]['comments'])\n",
    "raw_c_train = [c.split('::') if isinstance(c, str) else '' for c in raw_c_train]\n",
    "raw_c_val= [c.split('::') if isinstance(c, str) else '' for c in raw_c_val]\n",
    "x_train, x_val = props['train']['x'], props['val']['x']\n",
    "y_train, y_val = props['train']['y'], props['val']['y']\n",
    "c_train, c_val = props['train']['c'], props['val']['c']\n",
    "sub_train, sub_val = props['train']['subgraphs'], props['val']['subgraphs']\n",
    "\n",
    "\n",
    "\n",
    "trainer = Trainer(\n",
    "    manifold=manifold,\n",
    "    model_type=model,\n",
    "    platform=dataset, \n",
    "    max_sen_len=max_sent_len, \n",
    "    max_com_len=max_com_len, \n",
    "    max_sents=max_sents, \n",
    "    max_coms=max_coms, \n",
    "    lr = lr, \n",
    "    fourier = fourier,\n",
    "    curv=curv,\n",
    "    enable_log=enable_log,\n",
    "    embedding_dim=int(embedding_dim)\n",
    ")\n",
    "\n",
    "\n",
    "\n",
    "\n",
    "\n"
   ]
  },
  {
   "cell_type": "code",
   "execution_count": 8,
   "metadata": {},
   "outputs": [
    {
     "name": "stdout",
     "output_type": "stream",
     "text": [
      "saved tokenizer\n",
      "Building model....\n",
      "building HypPostEnc\n",
      "building HypComEnc\n",
      "building CoAttention\n",
      "lorentz 1.0\n",
      "hs4 built\n",
      "Encoding texts....\n",
      "preparing dataset....\n",
      "Dataset prepared.\n",
      "Epoch 0/99\n",
      "----------------------------------------------------------------------------------------------------\n"
     ]
    },
    {
     "name": "stderr",
     "output_type": "stream",
     "text": [
      "100%|██████████| 15/15 [00:09<00:00,  1.51it/s]\n"
     ]
    },
    {
     "name": "stdout",
     "output_type": "stream",
     "text": [
      "Epoch: 0 - batch: 0- val_accuracy:  0.468750 - val_precision:  0.219727 - val_recall  0.468750 val_f1: 0.299202 \n",
      "----------------------------------------------------------------------------------------------------\n",
      "Epoch: 0 - val_accuracy:  0.468750 - val_precision:  0.219727 - val_recall  0.468750 val_f1: 0.299202 \n",
      "----------------------------------------------------------------------------------------------------\n",
      "Best F1: 0.2992021276595745\n",
      "Saving best model!\n",
      "Epoch 1/99\n",
      "----------------------------------------------------------------------------------------------------\n"
     ]
    },
    {
     "name": "stderr",
     "output_type": "stream",
     "text": [
      "100%|██████████| 15/15 [00:10<00:00,  1.47it/s]\n"
     ]
    },
    {
     "name": "stdout",
     "output_type": "stream",
     "text": [
      "Epoch: 1 - batch: 0- val_accuracy:  0.593750 - val_precision:  0.598958 - val_recall  0.593750 val_f1: 0.595783 \n",
      "----------------------------------------------------------------------------------------------------\n",
      "Epoch: 1 - val_accuracy:  0.593750 - val_precision:  0.598958 - val_recall  0.593750 val_f1: 0.595783 \n",
      "----------------------------------------------------------------------------------------------------\n",
      "Best F1: 0.5957832832832832\n",
      "Saving best model!\n",
      "Epoch 2/99\n",
      "----------------------------------------------------------------------------------------------------\n"
     ]
    },
    {
     "name": "stderr",
     "output_type": "stream",
     "text": [
      "100%|██████████| 15/15 [00:10<00:00,  1.49it/s]\n"
     ]
    },
    {
     "name": "stdout",
     "output_type": "stream",
     "text": [
      "Epoch: 2 - batch: 0- val_accuracy:  0.656250 - val_precision:  0.653409 - val_recall  0.656250 val_f1: 0.648846 \n",
      "----------------------------------------------------------------------------------------------------\n",
      "Epoch: 2 - val_accuracy:  0.656250 - val_precision:  0.653409 - val_recall  0.656250 val_f1: 0.648846 \n",
      "----------------------------------------------------------------------------------------------------\n",
      "Best F1: 0.6488461538461539\n",
      "Saving best model!\n",
      "Epoch 3/99\n",
      "----------------------------------------------------------------------------------------------------\n"
     ]
    },
    {
     "name": "stderr",
     "output_type": "stream",
     "text": [
      "100%|██████████| 15/15 [00:10<00:00,  1.50it/s]\n"
     ]
    },
    {
     "name": "stdout",
     "output_type": "stream",
     "text": [
      "Epoch: 3 - batch: 0- val_accuracy:  0.750000 - val_precision:  0.745455 - val_recall  0.750000 val_f1: 0.744589 \n",
      "----------------------------------------------------------------------------------------------------\n",
      "Epoch: 3 - val_accuracy:  0.750000 - val_precision:  0.745455 - val_recall  0.750000 val_f1: 0.744589 \n",
      "----------------------------------------------------------------------------------------------------\n",
      "Best F1: 0.7445887445887446\n",
      "Saving best model!\n",
      "Epoch 4/99\n",
      "----------------------------------------------------------------------------------------------------\n"
     ]
    },
    {
     "name": "stderr",
     "output_type": "stream",
     "text": [
      "100%|██████████| 15/15 [00:10<00:00,  1.49it/s]\n"
     ]
    },
    {
     "name": "stdout",
     "output_type": "stream",
     "text": [
      "Epoch: 4 - batch: 0- val_accuracy:  0.843750 - val_precision:  0.846324 - val_recall  0.843750 val_f1: 0.844212 \n",
      "----------------------------------------------------------------------------------------------------\n",
      "Epoch: 4 - val_accuracy:  0.843750 - val_precision:  0.846324 - val_recall  0.843750 val_f1: 0.844212 \n",
      "----------------------------------------------------------------------------------------------------\n",
      "Best F1: 0.8442118226600985\n",
      "Saving best model!\n",
      "Epoch 5/99\n",
      "----------------------------------------------------------------------------------------------------\n"
     ]
    },
    {
     "name": "stderr",
     "output_type": "stream",
     "text": [
      "100%|██████████| 15/15 [00:09<00:00,  1.51it/s]\n"
     ]
    },
    {
     "name": "stdout",
     "output_type": "stream",
     "text": [
      "Epoch: 5 - batch: 0- val_accuracy:  0.812500 - val_precision:  0.817460 - val_recall  0.812500 val_f1: 0.811765 \n",
      "----------------------------------------------------------------------------------------------------\n",
      "Epoch: 5 - val_accuracy:  0.812500 - val_precision:  0.817460 - val_recall  0.812500 val_f1: 0.811765 \n",
      "----------------------------------------------------------------------------------------------------\n",
      "Epoch 6/99\n",
      "----------------------------------------------------------------------------------------------------\n"
     ]
    },
    {
     "name": "stderr",
     "output_type": "stream",
     "text": [
      "100%|██████████| 15/15 [00:09<00:00,  1.57it/s]\n"
     ]
    },
    {
     "name": "stdout",
     "output_type": "stream",
     "text": [
      "Epoch: 6 - batch: 0- val_accuracy:  0.781250 - val_precision:  0.850852 - val_recall  0.781250 val_f1: 0.773586 \n",
      "----------------------------------------------------------------------------------------------------\n",
      "Epoch: 6 - val_accuracy:  0.781250 - val_precision:  0.850852 - val_recall  0.781250 val_f1: 0.773586 \n",
      "----------------------------------------------------------------------------------------------------\n",
      "Epoch 7/99\n",
      "----------------------------------------------------------------------------------------------------\n"
     ]
    },
    {
     "name": "stderr",
     "output_type": "stream",
     "text": [
      "100%|██████████| 15/15 [00:11<00:00,  1.31it/s]\n"
     ]
    },
    {
     "name": "stdout",
     "output_type": "stream",
     "text": [
      "Epoch: 7 - batch: 0- val_accuracy:  0.875000 - val_precision:  0.875000 - val_recall  0.875000 val_f1: 0.875000 \n",
      "----------------------------------------------------------------------------------------------------\n",
      "Epoch: 7 - val_accuracy:  0.875000 - val_precision:  0.875000 - val_recall  0.875000 val_f1: 0.875000 \n",
      "----------------------------------------------------------------------------------------------------\n",
      "Best F1: 0.875\n",
      "Saving best model!\n",
      "Epoch 8/99\n",
      "----------------------------------------------------------------------------------------------------\n"
     ]
    },
    {
     "name": "stderr",
     "output_type": "stream",
     "text": [
      "100%|██████████| 15/15 [00:11<00:00,  1.29it/s]\n"
     ]
    }
   ],
   "source": [
    "trainer.run(\n",
    "    train_x=x_train, \n",
    "    train_y=y_train, \n",
    "    train_c=c_train, \n",
    "    train_raw_c=raw_c_train, \n",
    "    val_x=x_val, \n",
    "    val_y=y_val, \n",
    "    val_c=c_val, \n",
    "    val_raw_c=raw_c_val, \n",
    "    sub_train=sub_train, \n",
    "    sub_val=sub_val, \n",
    "    batch_size=32, \n",
    "    epochs=100,\n",
    ")\n"
   ]
  },
  {
   "cell_type": "code",
   "execution_count": null,
   "metadata": {},
   "outputs": [
    {
     "name": "stdout",
     "output_type": "stream",
     "text": [
      "saved tokenizer\n",
      "Building model....\n",
      "building HypPostEnc\n",
      "building HypComEnc\n",
      "building CoAttention\n",
      "lorentz 1.0\n",
      "hs4 built\n",
      "Encoding texts....\n",
      "preparing dataset....\n",
      "Dataset prepared.\n",
      "Model loaded successfully.\n"
     ]
    },
    {
     "name": "stderr",
     "output_type": "stream",
     "text": [
      "/home/jupyter-iec_chau/chau/Hyphen/trainer.py:761: FutureWarning: You are using `torch.load` with `weights_only=False` (the current default value), which uses the default pickle module implicitly. It is possible to construct malicious pickle data which will execute arbitrary code during unpickling (See https://github.com/pytorch/pytorch/blob/main/SECURITY.md#untrusted-models for more details). In a future release, the default value for `weights_only` will be flipped to `True`. This limits the functions that could be executed during unpickling. Arbitrary objects will no longer be allowed to be loaded via this mode unless they are explicitly allowlisted by the user via `torch.serialization.add_safe_globals`. We recommend you start setting `weights_only=True` for any use case where you don't have full control of the loaded file. Please open an issue on GitHub for any issues related to this experimental feature.\n",
      "  self.model.load_state_dict(torch.load(model_path))\n"
     ]
    },
    {
     "name": "stdout",
     "output_type": "stream",
     "text": [
      "Epoch: 100 - batch: 0- val_accuracy:  0.906250 - val_precision:  0.907490 - val_recall  0.906250 val_f1: 0.905973 \n",
      "----------------------------------------------------------------------------------------------------\n",
      "Epoch: 100 - val_accuracy:  0.906250 - val_precision:  0.907490 - val_recall  0.906250 val_f1: 0.905973 \n",
      "----------------------------------------------------------------------------------------------------\n"
     ]
    },
    {
     "data": {
      "text/plain": [
       "(0.90625, 0.9059729064039409, 0.9074900793650793, 0.90625)"
      ]
     },
     "execution_count": 7,
     "metadata": {},
     "output_type": "execute_result"
    }
   ],
   "source": [
    "trainer.run(\n",
    "    train_x=x_train, \n",
    "    train_y=y_train, \n",
    "    train_c=c_train, \n",
    "    train_raw_c=raw_c_train, \n",
    "    val_x=x_val, \n",
    "    val_y=y_val, \n",
    "    val_c=c_val, \n",
    "    val_raw_c=raw_c_val, \n",
    "    sub_train=sub_train, \n",
    "    sub_val=sub_val, \n",
    "    batch_size=32, \n",
    "    epochs=100,\n",
    "    eval=True\n",
    ")\n"
   ]
  },
  {
   "cell_type": "code",
   "execution_count": null,
   "metadata": {},
   "outputs": [],
   "source": []
  },
  {
   "cell_type": "code",
   "execution_count": null,
   "metadata": {},
   "outputs": [],
   "source": []
  },
  {
   "cell_type": "code",
   "execution_count": null,
   "metadata": {},
   "outputs": [],
   "source": []
  }
 ],
 "metadata": {
  "kernelspec": {
   "display_name": "venv",
   "language": "python",
   "name": "python3"
  },
  "language_info": {
   "codemirror_mode": {
    "name": "ipython",
    "version": 3
   },
   "file_extension": ".py",
   "mimetype": "text/x-python",
   "name": "python",
   "nbconvert_exporter": "python",
   "pygments_lexer": "ipython3",
   "version": "3.10.14"
  }
 },
 "nbformat": 4,
 "nbformat_minor": 2
}
