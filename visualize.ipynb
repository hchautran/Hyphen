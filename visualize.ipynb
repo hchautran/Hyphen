{
 "cells": [
  {
   "cell_type": "code",
   "execution_count": null,
   "metadata": {},
   "outputs": [],
   "source": [
    "import os\n",
    "#os.environ['CUDA_VISIBLE_DEVICES'] = \"0\"\n",
    "import pickle\n",
    "import argparse\n",
    "parser = argparse.ArgumentParser()\n",
    "from trainer import Trainer \n",
    "from const import * \n",
    "import pandas as pd\n",
    "\n",
    "\n",
    "\n",
    "manifold = EUCLID\n",
    "model = HS4\n",
    "dataset = PHEME \n",
    "max_sent_len = 30 \n",
    "max_com_len = 30 \n",
    "max_sents = 30 \n",
    "max_coms = 30 \n",
    "lr =  0.001 \n",
    "fourier = True \n",
    "curv = 1.0 \n",
    "enable_log =  False \n",
    "embedding_dim = 200 \n",
    "\n",
    "\n",
    "file = open(f'{DATA_PATH}/{dataset}/{dataset}_preprocessed.pkl', 'rb')\n",
    "df = pd.read_csv(f'{DATA_PATH}/{dataset}/{dataset}.csv') \n",
    "props = pickle.load(file)\n",
    "\n",
    "id_train, id_test = props['train']['id'], props['val']['id']\n",
    "raw_c_train, raw_c_val = list(df[df['id'].isin(id_train)]['comments']), list(df[df['id'].isin(id_test)]['comments'])\n",
    "raw_c_train = [c.split('::') if isinstance(c, str) else '' for c in raw_c_train]\n",
    "raw_c_val= [c.split('::') if isinstance(c, str) else '' for c in raw_c_val]\n",
    "x_train, x_val = props['train']['x'], props['val']['x']\n",
    "y_train, y_val = props['train']['y'], props['val']['y']\n",
    "c_train, c_val = props['train']['c'], props['val']['c']\n",
    "sub_train, sub_val = props['train']['subgraphs'], props['val']['subgraphs']\n",
    "\n",
    "\n",
    "\n",
    "trainer = Trainer(\n",
    "    manifold=manifold,\n",
    "    model_type=model,\n",
    "    platform=dataset, \n",
    "    max_sen_len=max_sent_len, \n",
    "    max_com_len=max_com_len, \n",
    "    max_sents=max_sents, \n",
    "    max_coms=max_coms, \n",
    "    lr = lr, \n",
    "    fourier = fourier,\n",
    "    curv=curv,\n",
    "    enable_log=enable_log,\n",
    "    embedding_dim=int(embedding_dim)\n",
    ")\n",
    "\n"
   ]
  },
  {
   "cell_type": "code",
   "execution_count": null,
   "metadata": {},
   "outputs": [],
   "source": []
  },
  {
   "cell_type": "code",
   "execution_count": null,
   "metadata": {},
   "outputs": [],
   "source": [
    "trainer.run(\n",
    "    train_x=x_train, \n",
    "    train_y=y_train, \n",
    "    train_c=c_train, \n",
    "    train_raw_c=raw_c_train, \n",
    "    val_x=x_val, \n",
    "    val_y=y_val, \n",
    "    val_c=c_val, \n",
    "    val_raw_c=raw_c_val, \n",
    "    sub_train=sub_train, \n",
    "    sub_val=sub_val, \n",
    "    batch_size=32, \n",
    "    epochs=100,\n",
    ")\n"
   ]
  },
  {
   "cell_type": "markdown",
   "metadata": {},
   "source": []
  },
  {
   "cell_type": "code",
   "execution_count": null,
   "metadata": {},
   "outputs": [],
   "source": [
    "trainer.run(\n",
    "    train_x=x_train, \n",
    "    train_y=y_train, \n",
    "    train_c=c_train, \n",
    "    train_raw_c=raw_c_train, \n",
    "    val_x=x_val, \n",
    "    val_y=y_val, \n",
    "    val_c=c_val, \n",
    "    val_raw_c=raw_c_val, \n",
    "    sub_train=sub_train, \n",
    "    sub_val=sub_val, \n",
    "    batch_size=32, \n",
    "    epochs=100,\n",
    "    eval=False,\n",
    "    visualize=True\n",
    ")\n"
   ]
  },
  {
   "cell_type": "code",
   "execution_count": null,
   "metadata": {},
   "outputs": [],
   "source": []
  },
  {
   "cell_type": "code",
   "execution_count": null,
   "metadata": {},
   "outputs": [],
   "source": []
  },
  {
   "cell_type": "code",
   "execution_count": null,
   "metadata": {},
   "outputs": [],
   "source": []
  }
 ],
 "metadata": {
  "kernelspec": {
   "display_name": "venv",
   "language": "python",
   "name": "python3"
  },
  "language_info": {
   "codemirror_mode": {
    "name": "ipython",
    "version": 3
   },
   "file_extension": ".py",
   "mimetype": "text/x-python",
   "name": "python",
   "nbconvert_exporter": "python",
   "pygments_lexer": "ipython3",
   "version": "3.10.14"
  }
 },
 "nbformat": 4,
 "nbformat_minor": 2
}
